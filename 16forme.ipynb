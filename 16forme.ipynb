{
 "cells": [
  {
   "cell_type": "code",
   "execution_count": 1,
   "metadata": {},
   "outputs": [],
   "source": [
    "import numpy as np"
   ]
  },
  {
   "cell_type": "code",
   "execution_count": 3,
   "metadata": {},
   "outputs": [],
   "source": [
    "x=np.array([[0,0,0],[1,0,0],[1,1,0],[1,1,1]])"
   ]
  },
  {
   "cell_type": "code",
   "execution_count": 4,
   "metadata": {},
   "outputs": [],
   "source": [
    "wh1=2*np.random.random((3,4))-1\n",
    "b1=2*np.random.random((1,4))-1\n",
    "wo=2*np.random.random((4,1))-1\n",
    "bo=2*np.random.random(1)-1"
   ]
  },
  {
   "cell_type": "code",
   "execution_count": 5,
   "metadata": {},
   "outputs": [
    {
     "data": {
      "text/plain": [
       "(array([[ 0.3106764 , -0.62668402, -0.1090227 ,  0.64245645],\n",
       "        [ 0.38520901, -0.19371338,  0.54105345,  0.99910706],\n",
       "        [ 0.10004468,  0.63788696,  0.75116756,  0.11058944]]),\n",
       " array([[-0.77753676,  0.73609132,  0.32298894, -0.33263145]]),\n",
       " array([[-0.12729244],\n",
       "        [ 0.10119942],\n",
       "        [ 0.42400573],\n",
       "        [ 0.83476488]]),\n",
       " array([0.38228741]))"
      ]
     },
     "execution_count": 5,
     "metadata": {},
     "output_type": "execute_result"
    }
   ],
   "source": [
    "wh1,b1,wo,bo"
   ]
  },
  {
   "cell_type": "code",
   "execution_count": 6,
   "metadata": {},
   "outputs": [],
   "source": [
    "def sigmoid(z):\n",
    "    return 1/(1+np.exp(-z))"
   ]
  },
  {
   "cell_type": "code",
   "execution_count": 7,
   "metadata": {},
   "outputs": [],
   "source": [
    "output_hidden1=sigmoid(np.dot(x,wh1)+b1)"
   ]
  },
  {
   "cell_type": "code",
   "execution_count": 8,
   "metadata": {},
   "outputs": [
    {
     "data": {
      "text/plain": [
       "array([[0.31485101, 0.67614055, 0.58005251, 0.41760049],\n",
       "       [0.38535962, 0.52732458, 0.55328841, 0.57684255],\n",
       "       [0.4795985 , 0.47893596, 0.68027148, 0.7873344 ],\n",
       "       [0.5045982 , 0.63496598, 0.81849547, 0.80526339]])"
      ]
     },
     "execution_count": 8,
     "metadata": {},
     "output_type": "execute_result"
    }
   ],
   "source": [
    "output_hidden1"
   ]
  },
  {
   "cell_type": "code",
   "execution_count": 9,
   "metadata": {},
   "outputs": [],
   "source": [
    "output_final=sigmoid(np.dot(output_hidden1,wo)+bo)"
   ]
  },
  {
   "cell_type": "code",
   "execution_count": 10,
   "metadata": {},
   "outputs": [
    {
     "data": {
      "text/plain": [
       "array([[0.73207544],\n",
       "       [0.75077022],\n",
       "       [0.78841275],\n",
       "       [0.80243234]])"
      ]
     },
     "execution_count": 10,
     "metadata": {},
     "output_type": "execute_result"
    }
   ],
   "source": [
    "output_final"
   ]
  },
  {
   "cell_type": "code",
   "execution_count": null,
   "metadata": {},
   "outputs": [],
   "source": []
  }
 ],
 "metadata": {
  "kernelspec": {
   "display_name": "Python 3",
   "language": "python",
   "name": "python3"
  },
  "language_info": {
   "codemirror_mode": {
    "name": "ipython",
    "version": 3
   },
   "file_extension": ".py",
   "mimetype": "text/x-python",
   "name": "python",
   "nbconvert_exporter": "python",
   "pygments_lexer": "ipython3",
   "version": "3.10.9"
  },
  "orig_nbformat": 4,
  "vscode": {
   "interpreter": {
    "hash": "c39696a9a9e8371fca7c2ba62b9c7592b8c897182521766cb0bcadcfc8e1445f"
   }
  }
 },
 "nbformat": 4,
 "nbformat_minor": 2
}
