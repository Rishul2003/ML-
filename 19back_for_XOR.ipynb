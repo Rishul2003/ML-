{
 "cells": [
  {
   "cell_type": "code",
   "execution_count": 37,
   "metadata": {},
   "outputs": [],
   "source": [
    "import numpy as np"
   ]
  },
  {
   "cell_type": "code",
   "execution_count": 38,
   "metadata": {},
   "outputs": [
    {
     "data": {
      "text/plain": [
       "((4, 2), (4, 1))"
      ]
     },
     "execution_count": 38,
     "metadata": {},
     "output_type": "execute_result"
    }
   ],
   "source": [
    "x=np.array([[0,0],[0,1],[1,0],[1,1]])\n",
    "y=np.array([[0,1,1,0]]).T\n",
    "x.shape,y.shape"
   ]
  },
  {
   "cell_type": "code",
   "execution_count": 39,
   "metadata": {},
   "outputs": [],
   "source": [
    "def sigmoid(z):\n",
    "    return 1/(1+np.exp(-z))"
   ]
  },
  {
   "cell_type": "code",
   "execution_count": 40,
   "metadata": {},
   "outputs": [],
   "source": [
    "def derivative(z):\n",
    "    return sigmoid(z)*(1-sigmoid(z))"
   ]
  },
  {
   "cell_type": "code",
   "execution_count": 41,
   "metadata": {},
   "outputs": [],
   "source": [
    "wh=2*np.random.random((2,2))-1\n",
    "bh=2*np.random.random((1,2))-1\n",
    "wo=2*np.random.random((2,1))-1\n",
    "bo=2*np.random.random((1,1))-1\n",
    "lr=0.1"
   ]
  },
  {
   "cell_type": "code",
   "execution_count": 42,
   "metadata": {},
   "outputs": [
    {
     "data": {
      "text/plain": [
       "array([[-0.48153106, -0.05053513],\n",
       "       [ 0.15170033, -0.79690442]])"
      ]
     },
     "execution_count": 42,
     "metadata": {},
     "output_type": "execute_result"
    }
   ],
   "source": [
    "wh"
   ]
  },
  {
   "cell_type": "code",
   "execution_count": null,
   "metadata": {},
   "outputs": [],
   "source": []
  },
  {
   "cell_type": "code",
   "execution_count": 45,
   "metadata": {},
   "outputs": [],
   "source": [
    "for itr in range(10000):\n",
    "    output0=x\n",
    "    input_hidden=np.dot(output0,wh)+bh\n",
    "    output_hidden=sigmoid(np.dot(output0,wh)+bh)\n",
    "    inputForOutput=np.dot(output_hidden,wo)+bo\n",
    "    output=sigmoid(np.dot(output_hidden,wo)+bo)\n",
    "    output\n",
    "\n",
    "\n",
    "\n",
    "    first_term_output=output-y\n",
    "    second_term_output=derivative(inputForOutput) \n",
    "    first_two_output=first_term_output*second_term_output\n",
    "\n",
    "\n",
    "\n",
    "    first_term_hidden_layer=np.dot(first_two_output,wo.T)\n",
    "    second_term_hidden_layer=derivative(input_hidden)\n",
    "    first_two_hidden=first_term_hidden_layer*second_term_hidden_layer \n",
    "\n",
    "\n",
    "\n",
    "    changeoutput=np.dot(output_hidden.T,first_two_output)\n",
    "    changeoutputbias=np.sum(first_two_output,keepdims=True,axis=0)\n",
    "\n",
    "\n",
    "    changehidden=np.dot(output0.T,first_two_hidden)\n",
    "    changehiddenbias=np.sum(first_two_hidden,keepdims=True,axis=0)\n",
    "\n",
    "    w0=wo-lr*changeoutput\n",
    "    bo=bo-lr*changeoutputbias\n",
    "    wh=wh-lr*changehidden\n",
    "    bh=bh-lr*changehiddenbias"
   ]
  },
  {
   "cell_type": "code",
   "execution_count": 46,
   "metadata": {},
   "outputs": [
    {
     "data": {
      "text/plain": [
       "(array([[0.46004341],\n",
       "        [0.51402285],\n",
       "        [0.51406303],\n",
       "        [0.51447281]]),\n",
       " array([[-8.61708725,  0.01622351],\n",
       "        [-8.61712102, -0.80577863]]),\n",
       " array([[-0.2230886 ],\n",
       "        [ 0.00091879]]),\n",
       " array([[0.05769239]]),\n",
       " array([[ 3.80485932, -0.39416917]]))"
      ]
     },
     "execution_count": 46,
     "metadata": {},
     "output_type": "execute_result"
    }
   ],
   "source": [
    "output0=x\n",
    "input_hidden=np.dot(output0,wh)+bh\n",
    "output_hidden=sigmoid(input_hidden)\n",
    "inputForOutput=np.dot(output_hidden,wo)+bo\n",
    "output=sigmoid(inputForOutput)\n",
    "output,wh,wo,bo,bh\n",
    "\n",
    "\n"
   ]
  },
  {
   "cell_type": "code",
   "execution_count": null,
   "metadata": {},
   "outputs": [],
   "source": []
  },
  {
   "cell_type": "code",
   "execution_count": null,
   "metadata": {},
   "outputs": [],
   "source": []
  }
 ],
 "metadata": {
  "kernelspec": {
   "display_name": "Python 3",
   "language": "python",
   "name": "python3"
  },
  "language_info": {
   "codemirror_mode": {
    "name": "ipython",
    "version": 3
   },
   "file_extension": ".py",
   "mimetype": "text/x-python",
   "name": "python",
   "nbconvert_exporter": "python",
   "pygments_lexer": "ipython3",
   "version": "3.10.9"
  },
  "orig_nbformat": 4,
  "vscode": {
   "interpreter": {
    "hash": "c39696a9a9e8371fca7c2ba62b9c7592b8c897182521766cb0bcadcfc8e1445f"
   }
  }
 },
 "nbformat": 4,
 "nbformat_minor": 2
}
