{
 "cells": [
  {
   "cell_type": "code",
   "execution_count": 1,
   "metadata": {},
   "outputs": [],
   "source": [
    "import numpy as np\n",
    "import pandas as pd"
   ]
  },
  {
   "cell_type": "code",
   "execution_count": 2,
   "metadata": {},
   "outputs": [],
   "source": [
    "from sklearn.model_selection import train_test_split\n",
    "from sklearn.linear_model import LinearRegression"
   ]
  },
  {
   "cell_type": "code",
   "execution_count": 3,
   "metadata": {},
   "outputs": [],
   "source": [
    "data=np.loadtxt(\"C:\\\\Users\\\\91701\\\\Desktop\\\\files\\\\data.csv\",delimiter=\",\")\n",
    "x=data[:,0]\n",
    "y=data[:,1]"
   ]
  },
  {
   "cell_type": "code",
   "execution_count": 5,
   "metadata": {},
   "outputs": [],
   "source": [
    "xtrain,xtest,ytrain,ytest=train_test_split(x,y)"
   ]
  },
  {
   "cell_type": "code",
   "execution_count": 6,
   "metadata": {},
   "outputs": [
    {
     "data": {
      "text/plain": [
       "(75,)"
      ]
     },
     "execution_count": 6,
     "metadata": {},
     "output_type": "execute_result"
    }
   ],
   "source": [
    "xtrain.shape"
   ]
  },
  {
   "cell_type": "code",
   "execution_count": 7,
   "metadata": {},
   "outputs": [],
   "source": [
    "def fit(x,y):\n",
    "    t1=(x*y).mean()\n",
    "    t2=x.mean()*y.mean()\n",
    "    t3=(x*x).mean()\n",
    "    t4=x.mean()*x.mean()\n",
    "    m=(t1-t2)/(t3-t4)\n",
    "    c=y.mean()-m*(x.mean())\n",
    "    return m,c\n"
   ]
  },
  {
   "cell_type": "code",
   "execution_count": 8,
   "metadata": {},
   "outputs": [],
   "source": [
    "def predict(x,m,c):\n",
    "    ypre=m*x+c\n",
    "    return ypre"
   ]
  },
  {
   "cell_type": "code",
   "execution_count": 9,
   "metadata": {},
   "outputs": [],
   "source": [
    "def cost(ypre,ytrue):\n",
    "    u=((ytrue-ypre)**2).sum()\n",
    "    v=((ytrue-(ytrue.mean()))**2).sum()\n",
    "    c=1-u/v\n",
    "    return c"
   ]
  },
  {
   "cell_type": "code",
   "execution_count": 10,
   "metadata": {},
   "outputs": [
    {
     "name": "stdout",
     "output_type": "stream",
     "text": [
      "1.24467310294039 10.996985245970244\n"
     ]
    }
   ],
   "source": [
    "m,c=fit(xtrain,ytrain)\n",
    "print(m,c)"
   ]
  },
  {
   "cell_type": "code",
   "execution_count": 11,
   "metadata": {},
   "outputs": [
    {
     "data": {
      "text/plain": [
       "<function print>"
      ]
     },
     "execution_count": 11,
     "metadata": {},
     "output_type": "execute_result"
    }
   ],
   "source": [
    "ypredict=predict(xtest,m,c)\n",
    "print"
   ]
  },
  {
   "cell_type": "code",
   "execution_count": 12,
   "metadata": {},
   "outputs": [
    {
     "data": {
      "text/plain": [
       "array([62.15639196, 64.6521296 , 66.38809739, 80.86097046, 73.26819758,\n",
       "       96.5878451 , 50.31386485, 69.10109963, 81.60381532, 51.65926532,\n",
       "       62.92558894, 69.17004302, 75.98360424, 62.25513302, 89.40825509,\n",
       "       42.2737342 , 72.28439676, 62.49872852, 82.32920506, 66.45415259,\n",
       "       84.49460987, 75.5272949 , 56.96285829, 75.9987885 , 82.92443332])"
      ]
     },
     "execution_count": 12,
     "metadata": {},
     "output_type": "execute_result"
    }
   ],
   "source": [
    "ypredict"
   ]
  },
  {
   "cell_type": "code",
   "execution_count": 13,
   "metadata": {},
   "outputs": [
    {
     "data": {
      "text/plain": [
       "0.6932489769376331"
      ]
     },
     "execution_count": 13,
     "metadata": {},
     "output_type": "execute_result"
    }
   ],
   "source": [
    "cost(ypredict,ytest)"
   ]
  },
  {
   "cell_type": "code",
   "execution_count": null,
   "metadata": {},
   "outputs": [],
   "source": []
  }
 ],
 "metadata": {
  "kernelspec": {
   "display_name": "Python 3",
   "language": "python",
   "name": "python3"
  },
  "language_info": {
   "codemirror_mode": {
    "name": "ipython",
    "version": 3
   },
   "file_extension": ".py",
   "mimetype": "text/x-python",
   "name": "python",
   "nbconvert_exporter": "python",
   "pygments_lexer": "ipython3",
   "version": "3.10.9 (tags/v3.10.9:1dd9be6, Dec  6 2022, 20:01:21) [MSC v.1934 64 bit (AMD64)]"
  },
  "orig_nbformat": 4,
  "vscode": {
   "interpreter": {
    "hash": "c39696a9a9e8371fca7c2ba62b9c7592b8c897182521766cb0bcadcfc8e1445f"
   }
  }
 },
 "nbformat": 4,
 "nbformat_minor": 2
}
