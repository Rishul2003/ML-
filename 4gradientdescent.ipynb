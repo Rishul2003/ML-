{
 "cells": [
  {
   "cell_type": "code",
   "execution_count": 2,
   "metadata": {},
   "outputs": [
    {
     "name": "stderr",
     "output_type": "stream",
     "text": [
      "C:\\Users\\91701\\AppData\\Local\\Packages\\PythonSoftwareFoundation.Python.3.10_qbz5n2kfra8p0\\LocalCache\\local-packages\\Python310\\site-packages\\sklearn\\utils\\deprecation.py:87: FutureWarning: Function load_boston is deprecated; `load_boston` is deprecated in 1.0 and will be removed in 1.2.\n",
      "\n",
      "    The Boston housing prices dataset has an ethical problem. You can refer to\n",
      "    the documentation of this function for further details.\n",
      "\n",
      "    The scikit-learn maintainers therefore strongly discourage the use of this\n",
      "    dataset unless the purpose of the code is to study and educate about\n",
      "    ethical issues in data science and machine learning.\n",
      "\n",
      "    In this special case, you can fetch the dataset from the original\n",
      "    source::\n",
      "\n",
      "        import pandas as pd\n",
      "        import numpy as np\n",
      "\n",
      "        data_url = \"http://lib.stat.cmu.edu/datasets/boston\"\n",
      "        raw_df = pd.read_csv(data_url, sep=\"\\s+\", skiprows=22, header=None)\n",
      "        data = np.hstack([raw_df.values[::2, :], raw_df.values[1::2, :2]])\n",
      "        target = raw_df.values[1::2, 2]\n",
      "\n",
      "    Alternative datasets include the California housing dataset (i.e.\n",
      "    :func:`~sklearn.datasets.fetch_california_housing`) and the Ames housing\n",
      "    dataset. You can load the datasets as follows::\n",
      "\n",
      "        from sklearn.datasets import fetch_california_housing\n",
      "        housing = fetch_california_housing()\n",
      "\n",
      "    for the California housing dataset and::\n",
      "\n",
      "        from sklearn.datasets import fetch_openml\n",
      "        housing = fetch_openml(name=\"house_prices\", as_frame=True)\n",
      "\n",
      "    for the Ames housing dataset.\n",
      "  warnings.warn(msg, category=FutureWarning)\n"
     ]
    }
   ],
   "source": [
    "from sklearn import datasets\n",
    "import numpy as np\n",
    "import pandas as pd\n",
    "from sklearn.model_selection import train_test_split\n",
    "from sklearn.linear_model import LinearRegression\n",
    "boston=datasets.load_boston()"
   ]
  },
  {
   "cell_type": "code",
   "execution_count": 3,
   "metadata": {},
   "outputs": [],
   "source": [
    "# data=np.loadtxt(\"C:\\\\Users\\\\91701\\\\Desktop\\\\files\\\\data.csv\",delimiter=\",\")"
   ]
  },
  {
   "cell_type": "code",
   "execution_count": 4,
   "metadata": {},
   "outputs": [],
   "source": [
    "# data.shape\n",
    "# x=data[:,0]\n",
    "# y=data[:,1]\n",
    "# x.shape"
   ]
  },
  {
   "cell_type": "code",
   "execution_count": 5,
   "metadata": {},
   "outputs": [],
   "source": [
    "# xtrain,xtest,ytrain,ytest=train_test_split(x,y)\n",
    "# xtrain.size"
   ]
  },
  {
   "cell_type": "code",
   "execution_count": 6,
   "metadata": {},
   "outputs": [],
   "source": [
    "# def cost(x,y,m,c):\n",
    "#     c1=(((y-m*x+c)**2).sum())/x.size\n",
    "#     print(\"COST :\" ,c1)"
   ]
  },
  {
   "cell_type": "code",
   "execution_count": 7,
   "metadata": {},
   "outputs": [],
   "source": [
    "# def step_gradient(x,y,alpha,m,c):\n",
    "#     mslope=(-2/x.size)*(((y-m*x-c)*x).sum())\n",
    "#     cslope=(-2/x.size)*((y-m*x-c).sum())\n",
    "#     new_m=m-alpha*mslope\n",
    "#     new_c=c-alpha*cslope\n",
    "#     return new_m,new_c\n"
   ]
  },
  {
   "cell_type": "code",
   "execution_count": 8,
   "metadata": {},
   "outputs": [],
   "source": [
    "# def gd(x,y,aplha,num):\n",
    "#     m=0\n",
    "#     c=0\n",
    "#     for i in range(num):\n",
    "#         m,c=step_gradient(x,y,aplha,m,c)\n",
    "#         print(\"m : \",m,\" c : \",c)\n",
    "#         cost(x,y,m,c)\n",
    "#     return m,c"
   ]
  },
  {
   "cell_type": "code",
   "execution_count": 9,
   "metadata": {},
   "outputs": [],
   "source": [
    "# alpha=0.0001\n",
    "# num=100\n",
    "# m,c=gd(xtrain,ytrain,alpha,num)"
   ]
  },
  {
   "cell_type": "code",
   "execution_count": 10,
   "metadata": {},
   "outputs": [],
   "source": [
    "# m"
   ]
  },
  {
   "cell_type": "code",
   "execution_count": 11,
   "metadata": {},
   "outputs": [],
   "source": [
    "# c"
   ]
  },
  {
   "cell_type": "code",
   "execution_count": null,
   "metadata": {},
   "outputs": [],
   "source": []
  },
  {
   "cell_type": "code",
   "execution_count": 12,
   "metadata": {},
   "outputs": [],
   "source": [
    "x=boston.data\n",
    "y=boston.target"
   ]
  },
  {
   "cell_type": "code",
   "execution_count": 13,
   "metadata": {},
   "outputs": [
    {
     "data": {
      "text/plain": [
       "379"
      ]
     },
     "execution_count": 13,
     "metadata": {},
     "output_type": "execute_result"
    }
   ],
   "source": [
    "xtrain,xtest,ytrain,ytest=train_test_split(x,y)\n",
    "len(xtrain)"
   ]
  },
  {
   "cell_type": "code",
   "execution_count": 14,
   "metadata": {},
   "outputs": [],
   "source": [
    "def cost(xtrain,ytrain,m):\n",
    "    N=len(xtrain)\n",
    "    tc=0\n",
    "    for i in range(N):\n",
    "        t=0\n",
    "        for j in range(len(m)):\n",
    "            t=t+m[j]*xtrain[i,j]\n",
    "        tc=tc+y[i]-t\n",
    "    print(\" COST : \",tc/N)\n",
    "        "
   ]
  },
  {
   "cell_type": "code",
   "execution_count": 15,
   "metadata": {},
   "outputs": [],
   "source": [
    "def step_gradient(xtrain,ytrain,alpha,m):\n",
    "    \n",
    "    new_m=m\n",
    "    print(\"M shape: \",m.shape,\"xtrain  : \",xtrain.shape,\"ytrain :\",ytrain.shape)\n",
    "    for k in range(len(m)):\n",
    "        t2=0\n",
    "        for i in range(len(xtrain)):\n",
    "            t1=0\n",
    "            for j in range(len(m)):\n",
    "                # print(m[j],xtrain[i,j])\n",
    "                t1=t1+m[j]*xtrain[i,j]\n",
    "            t2=t2+((y[i]-t1)*xtrain[i,k])\n",
    "            t2=(2*t2)/len(xtrain)\n",
    "        print(\"for which \",k,\" value of docst/dmj =\",t2)\n",
    "        new_m[k]=new_m[k]-alpha*t2\n",
    "    return new_m\n"
   ]
  },
  {
   "cell_type": "code",
   "execution_count": 16,
   "metadata": {},
   "outputs": [],
   "source": [
    "def gd(xtrain,ytrain,alpha,num):\n",
    "    m=np.zeros(len(xtrain[0]))\n",
    "    \n",
    "    for i in range(num):\n",
    "        m=step_gradient(xtrain,ytrain,alpha,m)\n",
    "        print(\" M \",m)\n",
    "        cost(xtrain,ytrain,m)\n",
    "    return m\n",
    "    \n"
   ]
  },
  {
   "cell_type": "code",
   "execution_count": 17,
   "metadata": {},
   "outputs": [],
   "source": [
    "xtrain.shape\n",
    "one=np.ones((len(xtrain),1))"
   ]
  },
  {
   "cell_type": "code",
   "execution_count": 18,
   "metadata": {},
   "outputs": [],
   "source": [
    "xtrain1=np.append(xtrain,one,axis=1)"
   ]
  },
  {
   "cell_type": "code",
   "execution_count": 23,
   "metadata": {},
   "outputs": [
    {
     "name": "stdout",
     "output_type": "stream",
     "text": [
      "M shape:  (14,) xtrain  :  (379, 14) ytrain : (379,)\n",
      "for which  0  value of docst/dmj = 0.003928992142796731\n",
      "for which  1  value of docst/dmj = 2.419592704997515\n",
      "for which  2  value of docst/dmj = 0.42194277949668874\n",
      "for which  3  value of docst/dmj = 5.389200346124648e-29\n",
      "for which  4  value of docst/dmj = 0.030471944795330927\n",
      "for which  5  value of docst/dmj = 0.39674177445343817\n",
      "for which  6  value of docst/dmj = 1.9973823873779453\n",
      "for which  7  value of docst/dmj = 0.4605461325649701\n",
      "for which  8  value of docst/dmj = 0.07062511741896499\n",
      "for which  9  value of docst/dmj = 21.129463153213006\n",
      "for which  10  value of docst/dmj = 1.1761010106740422\n",
      "for which  11  value of docst/dmj = 27.38614990687227\n",
      "for which  12  value of docst/dmj = 0.8662247555834302\n",
      "for which  13  value of docst/dmj = 0.06950180197904748\n",
      " M  [-3.92899214e-12 -2.41959270e-09 -4.21942779e-10 -5.38920035e-38\n",
      " -3.04719448e-11 -3.96741774e-10 -1.99738239e-09 -4.60546133e-10\n",
      " -7.06251174e-11 -2.11294632e-08 -1.17610101e-09 -2.73861499e-08\n",
      " -8.66224756e-10 -6.95018020e-11]\n",
      " COST :  25.074424940063672\n"
     ]
    },
    {
     "data": {
      "text/plain": [
       "array([-3.92899214e-12, -2.41959270e-09, -4.21942779e-10, -5.38920035e-38,\n",
       "       -3.04719448e-11, -3.96741774e-10, -1.99738239e-09, -4.60546133e-10,\n",
       "       -7.06251174e-11, -2.11294632e-08, -1.17610101e-09, -2.73861499e-08,\n",
       "       -8.66224756e-10, -6.95018020e-11])"
      ]
     },
     "execution_count": 23,
     "metadata": {},
     "output_type": "execute_result"
    }
   ],
   "source": [
    "alpha=0.000000001\n",
    "num=1\n",
    "m=gd(xtrain1,ytrain,alpha,num)\n",
    "m"
   ]
  },
  {
   "cell_type": "code",
   "execution_count": 26,
   "metadata": {},
   "outputs": [],
   "source": [
    "ypredict=np.zeros(len(xtrain))\n",
    "for i in range(len(xtrain1)):\n",
    "    t=0\n",
    "    for j in range(len(m)):\n",
    "        t=t+m[j]*xtrain1[i,j]\n",
    "    ypredict[i]=ypredict[i]+t"
   ]
  },
  {
   "cell_type": "code",
   "execution_count": 29,
   "metadata": {},
   "outputs": [
    {
     "data": {
      "text/plain": [
       "-2.788012955178207e+32"
      ]
     },
     "execution_count": 29,
     "metadata": {},
     "output_type": "execute_result"
    }
   ],
   "source": [
    "u=(((ytrain-ypredict)).sum())**2\n",
    "v=(((ytrain-(ytrain.mean()))).sum())**2\n",
    "score=1-u/v\n",
    "score"
   ]
  },
  {
   "cell_type": "code",
   "execution_count": null,
   "metadata": {},
   "outputs": [],
   "source": []
  }
 ],
 "metadata": {
  "kernelspec": {
   "display_name": "Python 3",
   "language": "python",
   "name": "python3"
  },
  "language_info": {
   "codemirror_mode": {
    "name": "ipython",
    "version": 3
   },
   "file_extension": ".py",
   "mimetype": "text/x-python",
   "name": "python",
   "nbconvert_exporter": "python",
   "pygments_lexer": "ipython3",
   "version": "3.10.9 (tags/v3.10.9:1dd9be6, Dec  6 2022, 20:01:21) [MSC v.1934 64 bit (AMD64)]"
  },
  "orig_nbformat": 4,
  "vscode": {
   "interpreter": {
    "hash": "c39696a9a9e8371fca7c2ba62b9c7592b8c897182521766cb0bcadcfc8e1445f"
   }
  }
 },
 "nbformat": 4,
 "nbformat_minor": 2
}
