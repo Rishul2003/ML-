{
 "cells": [
  {
   "cell_type": "code",
   "execution_count": 40,
   "metadata": {},
   "outputs": [],
   "source": [
    "from keras.models import Sequential\n",
    "from keras.layers import Dense"
   ]
  },
  {
   "attachments": {},
   "cell_type": "markdown",
   "metadata": {},
   "source": [
    "CREATING  A MODEL"
   ]
  },
  {
   "cell_type": "code",
   "execution_count": 41,
   "metadata": {},
   "outputs": [],
   "source": [
    "model=Sequential()"
   ]
  },
  {
   "attachments": {},
   "cell_type": "markdown",
   "metadata": {},
   "source": [
    "CREATING LAYER"
   ]
  },
  {
   "cell_type": "code",
   "execution_count": 42,
   "metadata": {},
   "outputs": [],
   "source": [
    "layer1=Dense(units=32,activation='relu',input_dim=30)\n",
    "model.add(layer1)\n",
    "layer2=Dense(units=16,activation='relu')\n",
    "model.add(layer2)\n",
    "output=Dense(units=1,activation='sigmoid') \n",
    "model.add(output)\n"
   ]
  },
  {
   "attachments": {},
   "cell_type": "markdown",
   "metadata": {},
   "source": [
    "COMPILING THE MODEL\n"
   ]
  },
  {
   "attachments": {},
   "cell_type": "markdown",
   "metadata": {},
   "source": [
    "model.compile(optimizer='adam',loss='binary_crossentropy',metrics=['accuracy'])"
   ]
  },
  {
   "cell_type": "code",
   "execution_count": 43,
   "metadata": {},
   "outputs": [],
   "source": [
    "model.compile(optimizer='adam',loss='binary_crossentropy',metrics=['accuracy'])"
   ]
  },
  {
   "attachments": {},
   "cell_type": "markdown",
   "metadata": {},
   "source": [
    "LOADING THE BREAST CANCER DATASET "
   ]
  },
  {
   "cell_type": "code",
   "execution_count": 44,
   "metadata": {},
   "outputs": [],
   "source": [
    "from sklearn.model_selection import train_test_split\n",
    "from sklearn import datasets"
   ]
  },
  {
   "cell_type": "code",
   "execution_count": 45,
   "metadata": {},
   "outputs": [],
   "source": [
    "cancer=datasets.load_breast_cancer()\n",
    "xtrain,xtest,ytrain,ytest=train_test_split(cancer.data,cancer.target,random_state=1)"
   ]
  },
  {
   "cell_type": "code",
   "execution_count": 46,
   "metadata": {},
   "outputs": [
    {
     "data": {
      "text/plain": [
       "(426, 30)"
      ]
     },
     "execution_count": 46,
     "metadata": {},
     "output_type": "execute_result"
    }
   ],
   "source": [
    "from sklearn.preprocessing import StandardScaler\n",
    "sc=StandardScaler()\n",
    "xtrain1=sc.fit_transform(xtrain)\n",
    "xtest1=sc.transform(xtest)\n",
    "xtrain1.shape"
   ]
  },
  {
   "attachments": {},
   "cell_type": "markdown",
   "metadata": {},
   "source": [
    "NOW FITTING THE DATA"
   ]
  },
  {
   "cell_type": "code",
   "execution_count": 47,
   "metadata": {},
   "outputs": [
    {
     "name": "stdout",
     "output_type": "stream",
     "text": [
      "Epoch 1/20\n",
      "9/9 [==============================] - 1s 21ms/step - loss: 0.5217 - accuracy: 0.8521 - val_loss: 0.4919 - val_accuracy: 0.8671\n",
      "Epoch 2/20\n",
      "9/9 [==============================] - 0s 4ms/step - loss: 0.4077 - accuracy: 0.8873 - val_loss: 0.4071 - val_accuracy: 0.8881\n",
      "Epoch 3/20\n",
      "9/9 [==============================] - 0s 4ms/step - loss: 0.3248 - accuracy: 0.9108 - val_loss: 0.3424 - val_accuracy: 0.9021\n",
      "Epoch 4/20\n",
      "9/9 [==============================] - 0s 4ms/step - loss: 0.2624 - accuracy: 0.9319 - val_loss: 0.2954 - val_accuracy: 0.9091\n",
      "Epoch 5/20\n",
      "9/9 [==============================] - 0s 4ms/step - loss: 0.2178 - accuracy: 0.9366 - val_loss: 0.2590 - val_accuracy: 0.9091\n",
      "Epoch 6/20\n",
      "9/9 [==============================] - 0s 4ms/step - loss: 0.1841 - accuracy: 0.9437 - val_loss: 0.2305 - val_accuracy: 0.9161\n",
      "Epoch 7/20\n",
      "9/9 [==============================] - 0s 5ms/step - loss: 0.1565 - accuracy: 0.9531 - val_loss: 0.2071 - val_accuracy: 0.9161\n",
      "Epoch 8/20\n",
      "9/9 [==============================] - 0s 4ms/step - loss: 0.1359 - accuracy: 0.9648 - val_loss: 0.1898 - val_accuracy: 0.9301\n",
      "Epoch 9/20\n",
      "9/9 [==============================] - 0s 4ms/step - loss: 0.1192 - accuracy: 0.9695 - val_loss: 0.1758 - val_accuracy: 0.9371\n",
      "Epoch 10/20\n",
      "9/9 [==============================] - 0s 4ms/step - loss: 0.1066 - accuracy: 0.9695 - val_loss: 0.1623 - val_accuracy: 0.9510\n",
      "Epoch 11/20\n",
      "9/9 [==============================] - 0s 4ms/step - loss: 0.0955 - accuracy: 0.9765 - val_loss: 0.1527 - val_accuracy: 0.9510\n",
      "Epoch 12/20\n",
      "9/9 [==============================] - 0s 4ms/step - loss: 0.0863 - accuracy: 0.9765 - val_loss: 0.1431 - val_accuracy: 0.9510\n",
      "Epoch 13/20\n",
      "9/9 [==============================] - 0s 4ms/step - loss: 0.0788 - accuracy: 0.9812 - val_loss: 0.1352 - val_accuracy: 0.9510\n",
      "Epoch 14/20\n",
      "9/9 [==============================] - 0s 4ms/step - loss: 0.0727 - accuracy: 0.9859 - val_loss: 0.1291 - val_accuracy: 0.9510\n",
      "Epoch 15/20\n",
      "9/9 [==============================] - 0s 4ms/step - loss: 0.0679 - accuracy: 0.9883 - val_loss: 0.1246 - val_accuracy: 0.9441\n",
      "Epoch 16/20\n",
      "9/9 [==============================] - 0s 4ms/step - loss: 0.0635 - accuracy: 0.9883 - val_loss: 0.1215 - val_accuracy: 0.9441\n",
      "Epoch 17/20\n",
      "9/9 [==============================] - 0s 4ms/step - loss: 0.0599 - accuracy: 0.9883 - val_loss: 0.1190 - val_accuracy: 0.9510\n",
      "Epoch 18/20\n",
      "9/9 [==============================] - 0s 4ms/step - loss: 0.0567 - accuracy: 0.9906 - val_loss: 0.1169 - val_accuracy: 0.9510\n",
      "Epoch 19/20\n",
      "9/9 [==============================] - 0s 4ms/step - loss: 0.0540 - accuracy: 0.9906 - val_loss: 0.1154 - val_accuracy: 0.9510\n",
      "Epoch 20/20\n",
      "9/9 [==============================] - 0s 4ms/step - loss: 0.0518 - accuracy: 0.9930 - val_loss: 0.1144 - val_accuracy: 0.9510\n"
     ]
    },
    {
     "data": {
      "text/plain": [
       "<keras.callbacks.History at 0x2b1f38e3340>"
      ]
     },
     "execution_count": 47,
     "metadata": {},
     "output_type": "execute_result"
    }
   ],
   "source": [
    "model.fit(xtrain1,ytrain,epochs=20,batch_size=50,validation_data=(xtest1,ytest))"
   ]
  },
  {
   "cell_type": "code",
   "execution_count": 50,
   "metadata": {},
   "outputs": [
    {
     "name": "stdout",
     "output_type": "stream",
     "text": [
      "5/5 [==============================] - 0s 1ms/step\n",
      "5/5 [==============================] - 0s 2ms/step - loss: 0.1144 - accuracy: 0.9510\n"
     ]
    },
    {
     "data": {
      "text/plain": [
       "[0.11441712081432343, 0.9510489702224731]"
      ]
     },
     "execution_count": 50,
     "metadata": {},
     "output_type": "execute_result"
    }
   ],
   "source": [
    "prediction=model.predict(xtest1)\n",
    "score=model.evaluate(xtest1,ytest)\n",
    "score"
   ]
  },
  {
   "cell_type": "code",
   "execution_count": null,
   "metadata": {},
   "outputs": [],
   "source": []
  }
 ],
 "metadata": {
  "kernelspec": {
   "display_name": "Python 3",
   "language": "python",
   "name": "python3"
  },
  "language_info": {
   "codemirror_mode": {
    "name": "ipython",
    "version": 3
   },
   "file_extension": ".py",
   "mimetype": "text/x-python",
   "name": "python",
   "nbconvert_exporter": "python",
   "pygments_lexer": "ipython3",
   "version": "3.10.9"
  },
  "orig_nbformat": 4,
  "vscode": {
   "interpreter": {
    "hash": "c39696a9a9e8371fca7c2ba62b9c7592b8c897182521766cb0bcadcfc8e1445f"
   }
  }
 },
 "nbformat": 4,
 "nbformat_minor": 2
}
