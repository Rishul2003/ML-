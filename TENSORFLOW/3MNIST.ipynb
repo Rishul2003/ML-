{
 "cells": [
  {
   "cell_type": "code",
   "execution_count": 1,
   "metadata": {},
   "outputs": [
    {
     "name": "stdout",
     "output_type": "stream",
     "text": [
      "WARNING:tensorflow:From C:\\Users\\91701\\AppData\\Local\\Packages\\PythonSoftwareFoundation.Python.3.10_qbz5n2kfra8p0\\LocalCache\\local-packages\\Python310\\site-packages\\tensorflow\\python\\compat\\v2_compat.py:107: disable_resource_variables (from tensorflow.python.ops.variable_scope) is deprecated and will be removed in a future version.\n",
      "Instructions for updating:\n",
      "non-resource variables are not supported in the long term\n"
     ]
    }
   ],
   "source": [
    "import tensorflow.compat.v1 as tf\n",
    "import numpy as np\n",
    "import tensorflow_datasets as tfds\n",
    "tf.disable_v2_behavior()\n"
   ]
  },
  {
   "cell_type": "code",
   "execution_count": 2,
   "metadata": {},
   "outputs": [],
   "source": [
    "(x_train, y_train), (x_test, y_test) = tf.keras.datasets.mnist.load_data()"
   ]
  },
  {
   "cell_type": "code",
   "execution_count": null,
   "metadata": {},
   "outputs": [],
   "source": [
    "\n"
   ]
  },
  {
   "cell_type": "code",
   "execution_count": 3,
   "metadata": {},
   "outputs": [
    {
     "data": {
      "text/plain": [
       "(60000, 28, 28)"
      ]
     },
     "execution_count": 3,
     "metadata": {},
     "output_type": "execute_result"
    }
   ],
   "source": [
    "a=np.unique(y_train)\n",
    "x_train.shape"
   ]
  },
  {
   "cell_type": "code",
   "execution_count": 4,
   "metadata": {},
   "outputs": [],
   "source": [
    "x_train\n",
    "newxtrain=x_train.reshape(x_train.shape[0],(x_train.shape[1]*x_train.shape[2]))"
   ]
  },
  {
   "cell_type": "code",
   "execution_count": 5,
   "metadata": {},
   "outputs": [
    {
     "data": {
      "text/plain": [
       "(10000, 784)"
      ]
     },
     "execution_count": 5,
     "metadata": {},
     "output_type": "execute_result"
    }
   ],
   "source": [
    "newxtrain.shape\n",
    "newtest=x_test.reshape(x_test.shape[0],(x_test.shape[1]*x_test.shape[2]))\n",
    "newtest.shape"
   ]
  },
  {
   "cell_type": "code",
   "execution_count": 6,
   "metadata": {},
   "outputs": [
    {
     "data": {
      "text/plain": [
       "((60000, 784), (10000, 784), (60000,), 10)"
      ]
     },
     "execution_count": 6,
     "metadata": {},
     "output_type": "execute_result"
    }
   ],
   "source": [
    "newxtrain.shape,newtest.shape,y_train.shape,len(np.unique(y_test))"
   ]
  },
  {
   "cell_type": "code",
   "execution_count": 7,
   "metadata": {},
   "outputs": [
    {
     "data": {
      "text/plain": [
       "(60000, 10)"
      ]
     },
     "execution_count": 7,
     "metadata": {},
     "output_type": "execute_result"
    }
   ],
   "source": [
    "newtrainy=np.zeros((len(x_train),len(np.unique(y_train))))\n",
    "newtrainy.shape"
   ]
  },
  {
   "cell_type": "code",
   "execution_count": 8,
   "metadata": {},
   "outputs": [],
   "source": [
    "for i in range(len(y_train)):\n",
    "    k=y_train[i]\n",
    "    newtrainy[i,k]=1"
   ]
  },
  {
   "cell_type": "code",
   "execution_count": 9,
   "metadata": {},
   "outputs": [],
   "source": [
    "newtesty=np.zeros((len(newtest),len(np.unique(y_test))))"
   ]
  },
  {
   "cell_type": "code",
   "execution_count": 10,
   "metadata": {},
   "outputs": [],
   "source": [
    "for i in range(len(y_test)):\n",
    "    k=y_test[i]\n",
    "    newtesty[i,k]=1"
   ]
  },
  {
   "cell_type": "code",
   "execution_count": 11,
   "metadata": {},
   "outputs": [
    {
     "data": {
      "text/plain": [
       "array([[0., 0., 0., ..., 1., 0., 0.],\n",
       "       [0., 0., 1., ..., 0., 0., 0.],\n",
       "       [0., 1., 0., ..., 0., 0., 0.],\n",
       "       ...,\n",
       "       [0., 0., 0., ..., 0., 0., 0.],\n",
       "       [0., 0., 0., ..., 0., 0., 0.],\n",
       "       [0., 0., 0., ..., 0., 0., 0.]])"
      ]
     },
     "execution_count": 11,
     "metadata": {},
     "output_type": "execute_result"
    }
   ],
   "source": [
    "newtesty"
   ]
  },
  {
   "cell_type": "code",
   "execution_count": 12,
   "metadata": {},
   "outputs": [
    {
     "data": {
      "text/plain": [
       "array([[0., 0., 0., ..., 0., 0., 0.],\n",
       "       [1., 0., 0., ..., 0., 0., 0.],\n",
       "       [0., 0., 0., ..., 0., 0., 0.],\n",
       "       ...,\n",
       "       [0., 0., 0., ..., 0., 0., 0.],\n",
       "       [0., 0., 0., ..., 0., 0., 0.],\n",
       "       [0., 0., 0., ..., 0., 1., 0.]])"
      ]
     },
     "execution_count": 12,
     "metadata": {},
     "output_type": "execute_result"
    }
   ],
   "source": [
    "newtrainy"
   ]
  },
  {
   "cell_type": "code",
   "execution_count": 13,
   "metadata": {},
   "outputs": [
    {
     "data": {
      "text/plain": [
       "((60000, 784), (10000, 784), (60000, 10), (10000, 10))"
      ]
     },
     "execution_count": 13,
     "metadata": {},
     "output_type": "execute_result"
    }
   ],
   "source": [
    "newxtrain.shape,newtest.shape,newtrainy.shape,newtesty.shape"
   ]
  },
  {
   "cell_type": "code",
   "execution_count": 14,
   "metadata": {},
   "outputs": [],
   "source": [
    "mnist=tfds.load(name='mnist')"
   ]
  },
  {
   "cell_type": "code",
   "execution_count": 15,
   "metadata": {},
   "outputs": [
    {
     "data": {
      "text/plain": [
       "dict"
      ]
     },
     "execution_count": 15,
     "metadata": {},
     "output_type": "execute_result"
    }
   ],
   "source": [
    "type(mnist)"
   ]
  },
  {
   "cell_type": "code",
   "execution_count": 16,
   "metadata": {},
   "outputs": [
    {
     "data": {
      "text/plain": [
       "{'train': <PrefetchDataset element_spec={'image': TensorSpec(shape=(28, 28, 1), dtype=tf.uint8, name=None), 'label': TensorSpec(shape=(), dtype=tf.int64, name=None)}>,\n",
       " 'test': <PrefetchDataset element_spec={'image': TensorSpec(shape=(28, 28, 1), dtype=tf.uint8, name=None), 'label': TensorSpec(shape=(), dtype=tf.int64, name=None)}>}"
      ]
     },
     "execution_count": 16,
     "metadata": {},
     "output_type": "execute_result"
    }
   ],
   "source": [
    "mnist"
   ]
  },
  {
   "cell_type": "code",
   "execution_count": 17,
   "metadata": {},
   "outputs": [],
   "source": [
    "tr,te=mnist['train'],mnist['test']"
   ]
  },
  {
   "cell_type": "code",
   "execution_count": 18,
   "metadata": {},
   "outputs": [],
   "source": [
    "tr1=tfds.as_numpy(tr)\n",
    "te1=tfds.as_numpy(te)"
   ]
  },
  {
   "cell_type": "code",
   "execution_count": 19,
   "metadata": {},
   "outputs": [
    {
     "data": {
      "text/plain": [
       "(<tensorflow_datasets.core.dataset_utils._IterableDataset at 0x232b61fe770>,\n",
       " <tensorflow_datasets.core.dataset_utils._IterableDataset at 0x232ed4cab90>)"
      ]
     },
     "execution_count": 19,
     "metadata": {},
     "output_type": "execute_result"
    }
   ],
   "source": [
    "tr1,te1"
   ]
  },
  {
   "cell_type": "code",
   "execution_count": 20,
   "metadata": {},
   "outputs": [
    {
     "data": {
      "text/plain": [
       "array([0., 0., 0., 0., 0., 1., 0., 0., 0., 0.])"
      ]
     },
     "execution_count": 20,
     "metadata": {},
     "output_type": "execute_result"
    }
   ],
   "source": [
    "newtrainy[0]"
   ]
  },
  {
   "cell_type": "code",
   "execution_count": 21,
   "metadata": {},
   "outputs": [
    {
     "data": {
      "text/plain": [
       "5"
      ]
     },
     "execution_count": 21,
     "metadata": {},
     "output_type": "execute_result"
    }
   ],
   "source": [
    "y_train[0]"
   ]
  },
  {
   "cell_type": "code",
   "execution_count": 22,
   "metadata": {},
   "outputs": [],
   "source": [
    "from matplotlib import pyplot as plt"
   ]
  },
  {
   "cell_type": "code",
   "execution_count": 23,
   "metadata": {},
   "outputs": [
    {
     "data": {
      "image/png": "[encoded data removed]",
      "text/plain": [
       "<Figure size 640x480 with 1 Axes>"
      ]
     },
     "metadata": {},
     "output_type": "display_data"
    }
   ],
   "source": [
    "first_img=newxtrain[1]\n",
    "# first_img\n",
    "first_img=np.array(first_img,dtype='float')\n",
    "first_img=first_img.reshape((28,28))\n",
    "plt.imshow(first_img)\n",
    "plt.show()"
   ]
  },
  {
   "cell_type": "code",
   "execution_count": 24,
   "metadata": {},
   "outputs": [
    {
     "name": "stdout",
     "output_type": "stream",
     "text": [
      "Tensor(\"random_normal:0\", shape=(756, 256), dtype=float32)\n"
     ]
    }
   ],
   "source": [
    "print(tf.compat.v1.random_normal([756,256]))"
   ]
  },
  {
   "cell_type": "code",
   "execution_count": 25,
   "metadata": {},
   "outputs": [],
   "source": [
    "n_input=784\n",
    "n_hidden1=256\n",
    "n_hidden2=256\n",
    "n_class=10\n",
    "weight={\n",
    "    'h1':tf.Variable(tf.compat.v1.random_normal([n_input,n_hidden1])),\n",
    "    'h2':tf.Variable(tf.compat.v1.random_normal([n_hidden1,n_hidden2])),\n",
    "    'h3':tf.Variable(tf.compat.v1.random_normal([n_hidden2,n_class]))\n",
    "\n",
    "}\n",
    "bias={\n",
    "    'h1':tf.Variable(tf.compat.v1.random_normal([n_hidden1])),\n",
    "    'h2':tf.Variable(tf.compat.v1.random_normal([n_hidden2])),\n",
    "    'h3':tf.Variable(tf.compat.v1.random_normal([n_class]))\n",
    "}"
   ]
  },
  {
   "cell_type": "code",
   "execution_count": 26,
   "metadata": {},
   "outputs": [],
   "source": [
    "def forward_propagation(x,weight,bias):\n",
    "    layer1=tf.add(tf.matmul(x,weight['h1']),bias['h1'])\n",
    "    out_layer1=tf.nn.relu(layer1)\n",
    "    layer2=tf.add(tf.matmul(out_layer1,weight['h2']),bias['h2'])\n",
    "    out_layer2=tf.nn.relu(layer2)\n",
    "    output=tf.add(tf.matmul(out_layer2,weight['h3']),bias['h3'])\n",
    "    out_output=tf.nn.relu(output)\n",
    "    return output"
   ]
  },
  {
   "cell_type": "code",
   "execution_count": 27,
   "metadata": {},
   "outputs": [],
   "source": [
    "\n",
    "x=tf.placeholder('float',[None,n_input])\n",
    "y=tf.placeholder(tf.int32,[None,n_class])\n",
    "pred=forward_propagation(x,weight,bias)"
   ]
  },
  {
   "cell_type": "code",
   "execution_count": 28,
   "metadata": {},
   "outputs": [
    {
     "name": "stdout",
     "output_type": "stream",
     "text": [
      "WARNING:tensorflow:From C:\\Users\\91701\\AppData\\Local\\Packages\\PythonSoftwareFoundation.Python.3.10_qbz5n2kfra8p0\\LocalCache\\local-packages\\Python310\\site-packages\\tensorflow\\python\\util\\dispatch.py:1176: softmax_cross_entropy_with_logits (from tensorflow.python.ops.nn_ops) is deprecated and will be removed in a future version.\n",
      "Instructions for updating:\n",
      "\n",
      "Future major versions of TensorFlow will allow gradients to flow\n",
      "into the labels input on backprop by default.\n",
      "\n",
      "See `tf.nn.softmax_cross_entropy_with_logits_v2`.\n",
      "\n"
     ]
    },
    {
     "name": "stderr",
     "output_type": "stream",
     "text": [
      "WARNING:tensorflow:From C:\\Users\\91701\\AppData\\Local\\Packages\\PythonSoftwareFoundation.Python.3.10_qbz5n2kfra8p0\\LocalCache\\local-packages\\Python310\\site-packages\\tensorflow\\python\\util\\dispatch.py:1176: softmax_cross_entropy_with_logits (from tensorflow.python.ops.nn_ops) is deprecated and will be removed in a future version.\n",
      "Instructions for updating:\n",
      "\n",
      "Future major versions of TensorFlow will allow gradients to flow\n",
      "into the labels input on backprop by default.\n",
      "\n",
      "See `tf.nn.softmax_cross_entropy_with_logits_v2`.\n",
      "\n"
     ]
    }
   ],
   "source": [
    "cost=tf.reduce_mean(tf.nn.softmax_cross_entropy_with_logits(logits=pred,labels=y))"
   ]
  },
  {
   "cell_type": "code",
   "execution_count": 43,
   "metadata": {},
   "outputs": [],
   "source": [
    "optimizer=tf.train.AdamOptimizer(learning_rate=0.01)\n",
    "optimize=optimizer.minimize(cost)\n",
    "ses=tf.Session()\n",
    "ses.run(tf.global_variables_initializer())"
   ]
  },
  {
   "cell_type": "code",
   "execution_count": 44,
   "metadata": {},
   "outputs": [
    {
     "name": "stdout",
     "output_type": "stream",
     "text": [
      "no of correct :  56102\n",
      "5098243.373550415\n",
      "no of correct :  57427\n",
      "825209.0908203125\n",
      "no of correct :  58016\n",
      "412703.9271697998\n",
      "no of correct :  57943\n",
      "238227.82531690598\n",
      "no of correct :  58542\n",
      "172603.7282447815\n",
      "no of correct :  59036\n",
      "134279.9704823494\n",
      "no of correct :  58581\n",
      "117601.35282593966\n",
      "no of correct :  59070\n",
      "111195.99708783627\n",
      "no of correct :  58984\n",
      "101943.70466470718\n",
      "no of correct :  59189\n",
      "105023.9019536972\n"
     ]
    }
   ],
   "source": [
    "batch_size=200\n",
    "# num_batch=int(len(newxtrain)/batch_size)\n",
    "# print(num_batch)\n",
    "# batch_x=newxtrain[:batch_size,:]\n",
    "# batch_y=newtrainy[:batch_size,:]\n",
    "# print(batch_x.shape,batch_y.shape)\n",
    "# len(newxtrain)\n",
    "for i in range(10):\n",
    "    num_batch=int(len(newxtrain)/batch_size)\n",
    "    x1=0\n",
    "    totalcost=0\n",
    "    for j in range(num_batch):\n",
    "        batch_x=newxtrain[x1:x1+batch_size,:]\n",
    "        batch_y=newtrainy[x1:x1+batch_size,:]\n",
    "        c,_=ses.run([cost,optimize],feed_dict={x:batch_x,y:batch_y})\n",
    "        totalcost=totalcost+c\n",
    "        x1=x1+batch_size\n",
    "    predict=tf.argmax(pred,1)\n",
    "    correc_labels=tf.argmax(y,1)\n",
    "    pred_val=ses.run(predict,feed_dict={x:newxtrain})\n",
    "    true_value=ses.run(correc_labels,feed_dict={y:newtrainy})\n",
    "    correct_pred=ses.run(tf.equal(pred_val,true_value))\n",
    "    print(\"no of correct : \",correct_pred.sum())\n",
    "    print(totalcost)\n",
    "        "
   ]
  },
  {
   "cell_type": "code",
   "execution_count": 150,
   "metadata": {},
   "outputs": [
    {
     "name": "stdout",
     "output_type": "stream",
     "text": [
      "no of correct :  6957\n",
      "43035.87\n",
      "no of correct :  7307\n",
      "36898.414\n",
      "no of correct :  7483\n",
      "34687.094\n",
      "no of correct :  7542\n",
      "34607.86\n",
      "no of correct :  7556\n",
      "34894.25\n",
      "no of correct :  7622\n",
      "34435.7\n",
      "no of correct :  7683\n",
      "32788.66\n",
      "no of correct :  7793\n",
      "30089.824\n",
      "no of correct :  7971\n",
      "26910.115\n",
      "no of correct :  8132\n",
      "23837.252\n",
      "no of correct :  8288\n",
      "21322.34\n",
      "no of correct :  8413\n",
      "19493.943\n",
      "no of correct :  8496\n",
      "18438.14\n",
      "no of correct :  8534\n",
      "17892.385\n",
      "no of correct :  8563\n",
      "17568.803\n",
      "no of correct :  8597\n",
      "17276.148\n",
      "no of correct :  8608\n",
      "16849.102\n",
      "no of correct :  8636\n",
      "16246.374\n",
      "no of correct :  8677\n",
      "15515.939\n",
      "no of correct :  8731\n",
      "14735.13\n",
      "no of correct :  8775\n",
      "13953.022\n",
      "no of correct :  8818\n",
      "13232.385\n",
      "no of correct :  8864\n",
      "12569.609\n",
      "no of correct :  8888\n",
      "11942.541\n",
      "no of correct :  8914\n",
      "11323.799\n",
      "no of correct :  8959\n",
      "10747.922\n",
      "no of correct :  8988\n",
      "10234.277\n",
      "no of correct :  9018\n",
      "9804.079\n",
      "no of correct :  9038\n",
      "9452.135\n",
      "no of correct :  9053\n",
      "9151.701\n",
      "no of correct :  9064\n",
      "8871.968\n",
      "no of correct :  9077\n",
      "8585.44\n",
      "no of correct :  9086\n",
      "8279.219\n",
      "no of correct :  9105\n",
      "7952.165\n",
      "no of correct :  9137\n",
      "7618.6807\n",
      "no of correct :  9158\n",
      "7295.778\n",
      "no of correct :  9178\n",
      "6987.2256\n",
      "no of correct :  9211\n",
      "6700.405\n",
      "no of correct :  9235\n",
      "6439.6504\n",
      "no of correct :  9250\n",
      "6203.751\n",
      "no of correct :  9261\n",
      "5981.311\n",
      "no of correct :  9268\n",
      "5765.082\n",
      "no of correct :  9276\n",
      "5558.4434\n",
      "no of correct :  9300\n",
      "5360.276\n",
      "no of correct :  9310\n",
      "5173.8887\n",
      "no of correct :  9322\n",
      "4993.174\n",
      "no of correct :  9335\n",
      "4820.209\n",
      "no of correct :  9349\n",
      "4650.72\n",
      "no of correct :  9363\n",
      "4484.279\n",
      "no of correct :  9386\n",
      "4319.019\n",
      "no of correct :  9402\n",
      "4158.871\n",
      "no of correct :  9415\n",
      "4004.3477\n",
      "no of correct :  9434\n",
      "3856.7332\n",
      "no of correct :  9451\n",
      "3715.6292\n",
      "no of correct :  9462\n",
      "3583.3071\n",
      "no of correct :  9475\n",
      "3460.116\n",
      "no of correct :  9485\n",
      "3341.732\n",
      "no of correct :  9501\n",
      "3226.1873\n",
      "no of correct :  9517\n",
      "3111.1228\n",
      "no of correct :  9530\n",
      "2997.5327\n",
      "no of correct :  9537\n",
      "2885.6567\n",
      "no of correct :  9561\n",
      "2778.7136\n",
      "no of correct :  9577\n",
      "2679.7468\n",
      "no of correct :  9600\n",
      "2585.365\n",
      "no of correct :  9599\n",
      "2495.314\n",
      "no of correct :  9607\n",
      "2409.1252\n",
      "no of correct :  9615\n",
      "2324.286\n",
      "no of correct :  9617\n",
      "2239.3176\n",
      "no of correct :  9620\n",
      "2156.3015\n",
      "no of correct :  9630\n",
      "2075.1875\n",
      "no of correct :  9637\n",
      "1996.9764\n",
      "no of correct :  9646\n",
      "1923.2039\n",
      "no of correct :  9662\n",
      "1852.9211\n",
      "no of correct :  9678\n",
      "1785.7472\n",
      "no of correct :  9683\n",
      "1720.9705\n",
      "no of correct :  9682\n",
      "1658.2042\n",
      "no of correct :  9686\n",
      "1596.3423\n",
      "no of correct :  9705\n",
      "1535.9478\n",
      "no of correct :  9711\n",
      "1477.5348\n",
      "no of correct :  9724\n",
      "1421.069\n",
      "no of correct :  9727\n",
      "1366.4952\n",
      "no of correct :  9733\n",
      "1313.9323\n",
      "no of correct :  9733\n",
      "1264.5101\n",
      "no of correct :  9739\n",
      "1216.831\n",
      "no of correct :  9744\n",
      "1170.2893\n",
      "no of correct :  9751\n",
      "1125.4948\n",
      "no of correct :  9765\n",
      "1081.4358\n",
      "no of correct :  9770\n",
      "1038.6346\n",
      "no of correct :  9785\n",
      "997.758\n",
      "no of correct :  9792\n",
      "958.8922\n",
      "no of correct :  9796\n",
      "921.3068\n",
      "no of correct :  9802\n",
      "885.1408\n",
      "no of correct :  9801\n",
      "849.1325\n",
      "no of correct :  9793\n",
      "814.1027\n",
      "no of correct :  9804\n",
      "779.155\n",
      "no of correct :  9811\n",
      "745.8292\n",
      "no of correct :  9823\n",
      "713.9213\n",
      "no of correct :  9834\n",
      "683.9426\n",
      "no of correct :  9836\n",
      "655.3736\n",
      "no of correct :  9840\n",
      "627.4181\n"
     ]
    }
   ],
   "source": [
    "# for i in range(10):\n",
    "#     predict=tf.argmax(pred,1)\n",
    "#     correc_labels=tf.argmax(y,1)\n",
    "#     pred_val=ses.run(predict,feed_dict={x:newxtrain})\n",
    "#     true_value=ses.run(correc_labels,feed_dict={y:newtrainy})\n",
    "#     # print(pred_val.shape,true_value.shape)\n",
    "#     correct_pred=ses.run(tf.equal(pred_val,true_value))\n",
    "#     print(\"no of correct : \",correct_pred.sum())\n",
    "#     c,_=ses.run([cost,optimize],feed_dict={x:newxtrain,y:newtrainy})\n",
    "#     print(c)"
   ]
  },
  {
   "cell_type": "code",
   "execution_count": 136,
   "metadata": {},
   "outputs": [],
   "source": [
    "def correct_ans(pred,y):\n",
    "    sess=tf.Session()\n",
    "    "
   ]
  },
  {
   "cell_type": "code",
   "execution_count": 45,
   "metadata": {},
   "outputs": [
    {
     "name": "stdout",
     "output_type": "stream",
     "text": [
      "(10000,) (10000,)\n",
      "9595\n"
     ]
    }
   ],
   "source": [
    "predict=tf.argmax(pred,1)\n",
    "correc_labels=tf.argmax(y,1)\n",
    "pred_val=ses.run(predict,feed_dict={x:newtest})\n",
    "true_value=ses.run(correc_labels,feed_dict={y:newtesty})\n",
    "print(pred_val.shape,true_value.shape)\n",
    "correct_pred=ses.run(tf.equal(pred_val,true_value))\n",
    "print(correct_pred.sum())"
   ]
  },
  {
   "cell_type": "code",
   "execution_count": 119,
   "metadata": {},
   "outputs": [],
   "source": [
    "# batch_size=100\n",
    "# for i in range(10):\n",
    "#     num_batch=int(newxtrain.size/batch_size)\n",
    "#     x1=0\n",
    "#     totalcost=0\n",
    "#     for j in range(num_batch):\n",
    "#         x1=x1+batch_size\n",
    "#         batch_x=newxtrain[:batch_size,]\n",
    "#         batch_y=newtrainy[:batch_size,]\n",
    "#         c,_=ses.run([cost,optimize],feed_dict={x:newxtrain,y:newtrainy})\n",
    "#         totalcost=totalcost+c\n",
    "#     predict=tf.argmax(pred,1)\n",
    "#     correc_labels=tf.argmax(y,1)\n",
    "#     pred_val=ses.run(predict,feed_dict={x:newxtrain})\n",
    "#     true_value=ses.run(correc_labels,feed_dict={y:newtrainy})\n",
    "#     correct_pred=ses.run(tf.equal(pred_val,true_value))\n",
    "#     print(\"no of correct : \",correct_pred.sum())\n",
    "#     print(totalcost)"
   ]
  },
  {
   "cell_type": "code",
   "execution_count": 120,
   "metadata": {},
   "outputs": [
    {
     "data": {
      "text/plain": [
       "((60000,), (60000,))"
      ]
     },
     "execution_count": 120,
     "metadata": {},
     "output_type": "execute_result"
    }
   ],
   "source": []
  },
  {
   "cell_type": "code",
   "execution_count": 123,
   "metadata": {},
   "outputs": [
    {
     "name": "stdout",
     "output_type": "stream",
     "text": [
      "5022\n"
     ]
    }
   ],
   "source": [
    "\n"
   ]
  },
  {
   "cell_type": "code",
   "execution_count": 125,
   "metadata": {},
   "outputs": [],
   "source": [
    "optimizer=tf.train.AdamOptimizer(learning_rate=0.01)\n",
    "optimize=optimizer.minimize(cost)"
   ]
  },
  {
   "cell_type": "code",
   "execution_count": null,
   "metadata": {},
   "outputs": [],
   "source": []
  }
 ],
 "metadata": {
  "kernelspec": {
   "display_name": "Python 3",
   "language": "python",
   "name": "python3"
  },
  "language_info": {
   "codemirror_mode": {
    "name": "ipython",
    "version": 3
   },
   "file_extension": ".py",
   "mimetype": "text/x-python",
   "name": "python",
   "nbconvert_exporter": "python",
   "pygments_lexer": "ipython3",
   "version": "3.10.9"
  },
  "orig_nbformat": 4,
  "vscode": {
   "interpreter": {
    "hash": "c39696a9a9e8371fca7c2ba62b9c7592b8c897182521766cb0bcadcfc8e1445f"
   }
  }
 },
 "nbformat": 4,
 "nbformat_minor": 2
}
