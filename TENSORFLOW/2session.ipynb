{
 "cells": [
  {
   "cell_type": "code",
   "execution_count": 18,
   "metadata": {},
   "outputs": [],
   "source": [
    "import tensorflow as tf"
   ]
  },
  {
   "cell_type": "code",
   "execution_count": 19,
   "metadata": {},
   "outputs": [],
   "source": [
    "#constant\n",
    "tf.compat.v1.disable_eager_execution()\n",
    "\n"
   ]
  },
  {
   "cell_type": "code",
   "execution_count": 24,
   "metadata": {},
   "outputs": [
    {
     "name": "stdout",
     "output_type": "stream",
     "text": [
      "2\n",
      "[[3 4 5]\n",
      " [3 4 5]]\n",
      "[[3 3]\n",
      " [4 4]\n",
      " [5 5]\n",
      " [3 3]\n",
      " [4 4]\n",
      " [5 5]]\n"
     ]
    }
   ],
   "source": [
    "#session\n",
    "a=tf.constant(2)\n",
    "b=tf.constant(3)\n",
    "d=tf.constant([[3,3],[4,4],[5,5]])\n",
    "with tf.compat.v1.Session() as sess:\n",
    "    a1=tf.constant(3)\n",
    "    print(a.eval())\n",
    "    print((tf.transpose(d)).eval())\n",
    "    print((tf.concat([d,d],axis=0)).eval())"
   ]
  },
  {
   "cell_type": "code",
   "execution_count": 38,
   "metadata": {},
   "outputs": [
    {
     "name": "stdout",
     "output_type": "stream",
     "text": [
      "103\n",
      "120\n",
      "42\n"
     ]
    }
   ],
   "source": [
    "#variable\n",
    "a1=tf.Variable(100)\n",
    "a2=tf.Variable(3)\n",
    "sum=tf.add(a1,a2)\n",
    "with tf.compat.v1.Session() as ses:\n",
    "    ses.run(tf.compat.v1.global_variables_initializer())\n",
    "    print(sum.eval())\n",
    "    a1.assign(120).eval() \n",
    "    print(a1.eval())\n",
    "    x=tf.compat.v1.placeholder(tf.int32)\n",
    "    y=x*tf.constant(3)\n",
    "    print(ses.run(y,feed_dict={x:14}))\n"
   ]
  },
  {
   "cell_type": "code",
   "execution_count": null,
   "metadata": {},
   "outputs": [],
   "source": []
  }
 ],
 "metadata": {
  "kernelspec": {
   "display_name": "Python 3",
   "language": "python",
   "name": "python3"
  },
  "language_info": {
   "codemirror_mode": {
    "name": "ipython",
    "version": 3
   },
   "file_extension": ".py",
   "mimetype": "text/x-python",
   "name": "python",
   "nbconvert_exporter": "python",
   "pygments_lexer": "ipython3",
   "version": "3.10.9"
  },
  "orig_nbformat": 4,
  "vscode": {
   "interpreter": {
    "hash": "c39696a9a9e8371fca7c2ba62b9c7592b8c897182521766cb0bcadcfc8e1445f"
   }
  }
 },
 "nbformat": 4,
 "nbformat_minor": 2
}
